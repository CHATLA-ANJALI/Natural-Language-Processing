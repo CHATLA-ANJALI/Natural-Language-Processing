{
 "cells": [
  {
   "cell_type": "markdown",
   "id": "862339af-8451-436e-b520-8a83f99bfdbc",
   "metadata": {},
   "source": [
    "- Word2Vec is a popular technique in Natural Language Processing (NLP) for learning word embeddings.\n",
    "\n",
    "- These embeddings are dense vectors that capture the semantic meaning of words.\n",
    "\n",
    "- For example:\n",
    "\n",
    "- **Similarity:** Words that have similar meanings or are used in similar contexts are considered semantically similar. For example, \"king\" and \"queen\" are semantically similar because they both refer to royalty.\n",
    "\n",
    "- **Synonymy:** Words that are synonymous share a similar meaning. For instance, \"happy\" and \"joyful\" are synonyms and would be close to each other in a semantic space.\n",
    "\n",
    "- **Antonymy:** Words that have opposite meanings are antonyms. While they are semantically related, their meanings are opposite (e.g., \"hot\" vs. \"cold\"). In a semantic space, antonyms may be close but with opposing directions.\n",
    "\n",
    "- **Contextual Usage:** Words that appear in similar contexts often have related meanings. For example, \"doctor\" and \"nurse\" often appear together in medical contexts and thus have a semantic relationship.\n",
    "\n",
    "- **Conceptual Relationships:** Some words are related through broader conceptual links, like \"apple\" and \"fruit,\" where one is a type of the other."
   ]
  },
  {
   "cell_type": "markdown",
   "id": "82ff36c6-cf02-43f4-8283-7ed53ddaf0df",
   "metadata": {},
   "source": [
    "<img id=\"dimg_243\" src=\"data:image/png;base64,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\" class=\"YQ4gaf\" height=\"171\" style=\"object-position:center\" width=\"294\" alt=\"Skip-gram architecture of word2vec [16 ...\" data-csiid=\"rxnYZrG7J9aQseMP_8fbsAc_23\" data-atf=\"1\">"
   ]
  },
  {
   "cell_type": "markdown",
   "id": "4479b6cd-5939-474d-b36d-e8a6a177a4bb",
   "metadata": {},
   "source": [
    "- Introduced by Google in 2013, Word2Vec has two main architectures for generating these word vectors:\n",
    "\n",
    "- CBOW\n",
    "\n",
    "- Skip-gram"
   ]
  },
  {
   "cell_type": "markdown",
   "id": "501c0022-0711-4b81-983b-0170d3f0fbbb",
   "metadata": {},
   "source": [
    "# 1. Skip-Gram Model"
   ]
  },
  {
   "cell_type": "markdown",
   "id": "1f5f12ad-1bc1-41df-b46e-d276bdab0993",
   "metadata": {},
   "source": [
    "**Objective:**\n",
    "\n",
    "  - The goal of the Skip-Gram model is to predict the context words given a target word.\n",
    "\n",
    "**Training Process:**\n",
    "\n",
    " - For a given target word in a sentence, the model tries to predict the surrounding context words within a certain window size.\n",
    "\n",
    " - For example, if the sentence is \"The cat sat on the mat\" and the target word is \"sat\" with a window size of 2, the context words would be \"cat,\" \"on,\" \"the,\" and \"mat.\"\n",
    "\n",
    " - The model learns to maximize the probability of these context words given the target word. The optimization involves adjusting the weights of the neural network to minimize the loss function, which typically measures the difference between the predicted and actual context words.\n",
    "\n",
    "**Architecture:** \n",
    "\n",
    " - The neural network used is a simple feedforward neural network with a single hidden layer. The input is the one-hot encoded vector of the target word, and the output is the probability distribution over all words in the vocabulary."
   ]
  },
  {
   "cell_type": "markdown",
   "id": "7b28f827-1e5c-4774-a81f-8d4befbe9826",
   "metadata": {},
   "source": [
    "# Example Sentence"
   ]
  },
  {
   "cell_type": "markdown",
   "id": "583c92ee-c08a-4ea3-b08a-8c2882dc2bc0",
   "metadata": {},
   "source": [
    "**Consider the sentence**"
   ]
  },
  {
   "cell_type": "markdown",
   "id": "942ea8d7-0ec9-4e97-8b1a-3ff5b4903fd7",
   "metadata": {},
   "source": [
    "-  \"The quick brown fox jumps over the lazy dog.\""
   ]
  },
  {
   "cell_type": "markdown",
   "id": "f13946c8-4cbc-428f-b7d0-29252e555b09",
   "metadata": {},
   "source": [
    "**Step-by-Step Process:**\n",
    "\n",
    "- Choose the Target Word:\n",
    "\n",
    "- Let's select \"quick\" as our target word.\n",
    "\n",
    "\n",
    "**Define the Context Window Size:**\n",
    "\n",
    "- Assume the context window size is 2.\n",
    "\n",
    "- This means we will ll consider the two words before and the two words after the target word as the context.\n",
    "\n",
    "- For the target word \"quick,\" the context words are:\n",
    "\n",
    "    -  Before: \"The\"\n",
    "\n",
    "    -  After: \"brown\", \"fox\"\n",
    "\n",
    "\n",
    "- Therefore, the context words for \"quick\" are [\"The\", \"brown\", \"fox\"].\n",
    "\n",
    "**Training Data Generation:**\n",
    "\n",
    "- The Skip-Gram model generates (target, context) pairs for training.\n",
    "\n",
    "- For the word \"quick,\" the training pairs would be:\n",
    "        (\"quick\", \"The\")\n",
    "        (\"quick\", \"brown\")\n",
    "        (\"quick\", \"fox\")\n",
    "\n",
    "**Model Structure:**\n",
    "\n",
    "- Input Layer: The input is a one-hot encoded vector representing the target word \"quick.\" Suppose the vocabulary size is 10,000; this vector will be 10,000-dimensional, with a 1 at the index corresponding to \"quick\" and 0s elsewhere.\n",
    "\n",
    "- Hidden Layer: The hidden layer size determines the dimensionality of the word embeddings. Lets say we choose 300 dimensions. The input vector is multiplied by the weight matrix to produce a 300-dimensional vector.\n",
    "\n",
    "- Output Layer: The output is a softmax layer that predicts the probability distribution over the entire vocabulary. The model tries to maximize the probability of the correct context word given the target word.\n",
    "\n",
    "**Training the Model:**\n",
    "\n",
    "The model adjusts its weights to increase the probability of the actual context words. For example, for the pair (\"quick\", \"The\"), the model is trained to increase the probability of predicting \"The\" when the input is \"quick.\"\n",
    "\n",
    "This process is repeated for each context word, adjusting the weights through backpropagation and updating them using an optimization algorithm like Stochastic Gradient Descent (SGD).\n",
    "\n",
    "**Resulting Word Embeddings:**\n",
    "\n",
    "After training on many such (target, context) pairs, the model learns word embeddings that capture the relationships between words. Words that appear in similar contexts will have similar vector representations in the embedding space."
   ]
  },
  {
   "cell_type": "markdown",
   "id": "a8dd2625-e33b-456d-8518-85f90dfe75bc",
   "metadata": {},
   "source": [
    "## 2.Continuous Bag of Words (CBOW)"
   ]
  },
  {
   "cell_type": "markdown",
   "id": "2cefa894-81bf-458d-b73f-1afa3f7c3684",
   "metadata": {},
   "source": [
    "- Predicts the target word (center word) from the context words (surrounding words).\n",
    "\n",
    "- Skip-Gram: Predicts the context words from the target word (center word)."
   ]
  },
  {
   "cell_type": "markdown",
   "id": "84c9095b-f118-4c6e-b4b9-94684fd2360f",
   "metadata": {},
   "source": [
    "**Step-1:Install the packages**"
   ]
  },
  {
   "cell_type": "code",
   "execution_count": 11,
   "id": "d7d4e0b3-7baf-4df9-94a9-86fca542ff3c",
   "metadata": {},
   "outputs": [
    {
     "name": "stdout",
     "output_type": "stream",
     "text": [
      "Requirement already satisfied: gensim in c:\\users\\dell\\anaconda3\\lib\\site-packages (4.3.3)\n",
      "Requirement already satisfied: numpy<2.0,>=1.18.5 in c:\\users\\dell\\anaconda3\\lib\\site-packages (from gensim) (1.26.4)\n",
      "Requirement already satisfied: scipy<1.14.0,>=1.7.0 in c:\\users\\dell\\anaconda3\\lib\\site-packages (from gensim) (1.13.1)\n",
      "Requirement already satisfied: smart-open>=1.8.1 in c:\\users\\dell\\anaconda3\\lib\\site-packages (from gensim) (5.2.1)\n"
     ]
    }
   ],
   "source": [
    "!pip install gensim"
   ]
  },
  {
   "cell_type": "code",
   "execution_count": 13,
   "id": "13dbe91f-bdac-420b-97ee-7712daede8e9",
   "metadata": {},
   "outputs": [],
   "source": [
    "import gensim\n",
    "from gensim.models import Word2Vec, KeyedVectors"
   ]
  },
  {
   "cell_type": "markdown",
   "id": "1147da88-3a38-4f68-a733-7c8cfee1e8b4",
   "metadata": {},
   "source": [
    "**Step-2:Prepare the data**"
   ]
  },
  {
   "cell_type": "code",
   "execution_count": 17,
   "id": "b5329829-7950-4e17-aad6-5de2d51c0b67",
   "metadata": {},
   "outputs": [
    {
     "data": {
      "text/plain": [
       "[['i', 'love', 'machine', 'learning'],\n",
       " ['machine', 'learning', 'is', 'amazing'],\n",
       " ['natural',\n",
       "  'language',\n",
       "  'processing',\n",
       "  'is',\n",
       "  'a',\n",
       "  'part',\n",
       "  'of',\n",
       "  'machine',\n",
       "  'learning'],\n",
       " ['word2vec', 'is', 'used', 'in', 'many', 'nlp', 'tasks']]"
      ]
     },
     "execution_count": 17,
     "metadata": {},
     "output_type": "execute_result"
    }
   ],
   "source": [
    "from gensim.models import Word2Vec\n",
    "from nltk.tokenize import word_tokenize\n",
    "\n",
    "# Sample corpus\n",
    "corpus = [\n",
    "    \"I love machine learning\",\n",
    "    \"Machine learning is amazing\",\n",
    "    \"Natural Language Processing is a part of machine learning\",\n",
    "    \"Word2Vec is used in many NLP tasks\"\n",
    "]\n",
    "\n",
    "# Tokenize the sentences\n",
    "tokenized_corpus = [word_tokenize(sentence.lower()) for sentence in corpus]\n",
    "tokenized_corpus"
   ]
  },
  {
   "cell_type": "markdown",
   "id": "b8f39da1-0ef5-497a-9412-f1bcd12687dc",
   "metadata": {},
   "source": [
    "**Step-3:Train the word2vec Model**"
   ]
  },
  {
   "cell_type": "code",
   "execution_count": 22,
   "id": "daa6532d-8b48-427f-a8b3-c181be55e150",
   "metadata": {},
   "outputs": [],
   "source": [
    "# Train the Word2Vec model\n",
    "model = Word2Vec(sentences=tokenized_corpus, vector_size=100, window=2, min_count=1, sg=0)\n",
    "\n",
    "# sg=0 for CBOW, sg=1 for Skip-Gram\n",
    "#vector_size=100: The number of dimensions of the word vectors.\n",
    "#window=2: The maximum distance between the current and predicted word within a sentence.\n",
    "#min_count=1: Ignores all words with total frequency lower than this.\n",
    "#sg=0: Specifies the training algorithm (0 for CBOW, 1 for Skip-Gram)."
   ]
  },
  {
   "cell_type": "markdown",
   "id": "4267fc77-95e1-4ee0-a3b4-6a57a0adb195",
   "metadata": {},
   "source": [
    "**Step-4: Explore the Vectors**"
   ]
  },
  {
   "cell_type": "markdown",
   "id": "06c279f7-bce9-4eec-8db9-db0267a9be2a",
   "metadata": {},
   "source": [
    "- Based on above model the vectors of all words are created\n",
    "\n",
    "- Each word has one vector\n",
    "\n",
    "- Each vector size is 100"
   ]
  },
  {
   "cell_type": "code",
   "execution_count": 26,
   "id": "ebe813e3-941b-4bda-a7c5-eb2602cc35c9",
   "metadata": {},
   "outputs": [
    {
     "name": "stdout",
     "output_type": "stream",
     "text": [
      "Words similar to 'machine': [('many', 0.21883946657180786), ('processing', 0.21617580950260162), ('of', 0.09316980093717575), ('natural', 0.09292882680892944), ('part', 0.07969935238361359)]\n"
     ]
    }
   ],
   "source": [
    "# Find similar words\n",
    "similar_words = model.wv.most_similar('machine', topn=5)\n",
    "print(\"Words similar to 'machine':\", similar_words)"
   ]
  },
  {
   "cell_type": "code",
   "execution_count": 28,
   "id": "aa50609e-96e4-4192-862f-1a390b19a50b",
   "metadata": {},
   "outputs": [
    {
     "name": "stdout",
     "output_type": "stream",
     "text": [
      "Vector for 'machine': [-5.3622725e-04  2.3643136e-04  5.1033497e-03  9.0092728e-03\n",
      " -9.3029495e-03 -7.1168090e-03  6.4588725e-03  8.9729885e-03\n",
      " -5.0154282e-03 -3.7633716e-03  7.3805046e-03 -1.5334714e-03\n",
      " -4.5366134e-03  6.5540518e-03 -4.8601604e-03 -1.8160177e-03\n",
      "  2.8765798e-03  9.9187379e-04 -8.2852151e-03 -9.4488179e-03\n",
      "  7.3117660e-03  5.0702621e-03  6.7576934e-03  7.6286553e-04\n",
      "  6.3508903e-03 -3.4053659e-03 -9.4640139e-04  5.7685734e-03\n",
      " -7.5216377e-03 -3.9361035e-03 -7.5115822e-03 -9.3004224e-04\n",
      "  9.5381187e-03 -7.3191668e-03 -2.3337686e-03 -1.9377411e-03\n",
      "  8.0774371e-03 -5.9308959e-03  4.5162440e-05 -4.7537340e-03\n",
      " -9.6035507e-03  5.0072931e-03 -8.7595852e-03 -4.3918253e-03\n",
      " -3.5099984e-05 -2.9618145e-04 -7.6612402e-03  9.6147433e-03\n",
      "  4.9820580e-03  9.2331432e-03 -8.1579173e-03  4.4957981e-03\n",
      " -4.1370760e-03  8.2453608e-04  8.4986202e-03 -4.4621765e-03\n",
      "  4.5175003e-03 -6.7869602e-03 -3.5484887e-03  9.3985079e-03\n",
      " -1.5776526e-03  3.2137157e-04 -4.1406299e-03 -7.6826881e-03\n",
      " -1.5080082e-03  2.4697948e-03 -8.8802696e-04  5.5336617e-03\n",
      " -2.7429771e-03  2.2600652e-03  5.4557943e-03  8.3459532e-03\n",
      " -1.4537406e-03 -9.2081428e-03  4.3705525e-03  5.7178497e-04\n",
      "  7.4419081e-03 -8.1328274e-04 -2.6384138e-03 -8.7530091e-03\n",
      " -8.5655687e-04  2.8265631e-03  5.4014288e-03  7.0526563e-03\n",
      " -5.7031214e-03  1.8588197e-03  6.0888636e-03 -4.7980510e-03\n",
      " -3.1072604e-03  6.7976294e-03  1.6314756e-03  1.8991709e-04\n",
      "  3.4736372e-03  2.1777749e-04  9.6188262e-03  5.0606038e-03\n",
      " -8.9173904e-03 -7.0415605e-03  9.0145587e-04  6.3925339e-03]\n",
      "Words similar to 'machine': [('many', 0.21883946657180786), ('processing', 0.21617580950260162), ('of', 0.09316980093717575), ('natural', 0.09292882680892944), ('part', 0.07969935238361359)]\n"
     ]
    }
   ],
   "source": [
    "# Get the vector for a word\n",
    "vector = model.wv['machine']\n",
    "print(\"Vector for 'machine':\", vector)\n",
    "\n",
    "# Find similar words\n",
    "similar_words = model.wv.most_similar('machine', topn=5)\n",
    "print(\"Words similar to 'machine':\", similar_words)"
   ]
  },
  {
   "cell_type": "markdown",
   "id": "063d67b1-0b7d-4b67-97ba-e93ff2a55a10",
   "metadata": {},
   "source": [
    "**Step-5: Save and Load the Model**"
   ]
  },
  {
   "cell_type": "code",
   "execution_count": 31,
   "id": "9628998d-334b-4305-8a34-2e7a6f1c7ca0",
   "metadata": {},
   "outputs": [],
   "source": [
    "# Save the model\n",
    "model.save(\"word2vec.model\")\n",
    "\n",
    "# Load the model\n",
    "loaded_model = Word2Vec.load(\"word2vec.model\")"
   ]
  },
  {
   "cell_type": "code",
   "execution_count": 33,
   "id": "42cfc88a-9eda-4e56-b258-dd6943505329",
   "metadata": {},
   "outputs": [
    {
     "data": {
      "text/plain": [
       "array([-5.3622725e-04,  2.3643136e-04,  5.1033497e-03,  9.0092728e-03,\n",
       "       -9.3029495e-03, -7.1168090e-03,  6.4588725e-03,  8.9729885e-03,\n",
       "       -5.0154282e-03, -3.7633716e-03,  7.3805046e-03, -1.5334714e-03,\n",
       "       -4.5366134e-03,  6.5540518e-03, -4.8601604e-03, -1.8160177e-03,\n",
       "        2.8765798e-03,  9.9187379e-04, -8.2852151e-03, -9.4488179e-03,\n",
       "        7.3117660e-03,  5.0702621e-03,  6.7576934e-03,  7.6286553e-04,\n",
       "        6.3508903e-03, -3.4053659e-03, -9.4640139e-04,  5.7685734e-03,\n",
       "       -7.5216377e-03, -3.9361035e-03, -7.5115822e-03, -9.3004224e-04,\n",
       "        9.5381187e-03, -7.3191668e-03, -2.3337686e-03, -1.9377411e-03,\n",
       "        8.0774371e-03, -5.9308959e-03,  4.5162440e-05, -4.7537340e-03,\n",
       "       -9.6035507e-03,  5.0072931e-03, -8.7595852e-03, -4.3918253e-03,\n",
       "       -3.5099984e-05, -2.9618145e-04, -7.6612402e-03,  9.6147433e-03,\n",
       "        4.9820580e-03,  9.2331432e-03, -8.1579173e-03,  4.4957981e-03,\n",
       "       -4.1370760e-03,  8.2453608e-04,  8.4986202e-03, -4.4621765e-03,\n",
       "        4.5175003e-03, -6.7869602e-03, -3.5484887e-03,  9.3985079e-03,\n",
       "       -1.5776526e-03,  3.2137157e-04, -4.1406299e-03, -7.6826881e-03,\n",
       "       -1.5080082e-03,  2.4697948e-03, -8.8802696e-04,  5.5336617e-03,\n",
       "       -2.7429771e-03,  2.2600652e-03,  5.4557943e-03,  8.3459532e-03,\n",
       "       -1.4537406e-03, -9.2081428e-03,  4.3705525e-03,  5.7178497e-04,\n",
       "        7.4419081e-03, -8.1328274e-04, -2.6384138e-03, -8.7530091e-03,\n",
       "       -8.5655687e-04,  2.8265631e-03,  5.4014288e-03,  7.0526563e-03,\n",
       "       -5.7031214e-03,  1.8588197e-03,  6.0888636e-03, -4.7980510e-03,\n",
       "       -3.1072604e-03,  6.7976294e-03,  1.6314756e-03,  1.8991709e-04,\n",
       "        3.4736372e-03,  2.1777749e-04,  9.6188262e-03,  5.0606038e-03,\n",
       "       -8.9173904e-03, -7.0415605e-03,  9.0145587e-04,  6.3925339e-03],\n",
       "      dtype=float32)"
      ]
     },
     "execution_count": 33,
     "metadata": {},
     "output_type": "execute_result"
    }
   ],
   "source": [
    "loaded_model.wv['machine']"
   ]
  },
  {
   "cell_type": "markdown",
   "id": "78b7ae92-c258-4f3d-b3e5-061905b21ea2",
   "metadata": {},
   "source": [
    "**Vocabulary list**"
   ]
  },
  {
   "cell_type": "code",
   "execution_count": 36,
   "id": "de6e3550-8ad2-48dd-ab30-3277b2f46ec5",
   "metadata": {},
   "outputs": [
    {
     "name": "stdout",
     "output_type": "stream",
     "text": [
      "['machine', 'learning', 'is', 'tasks', 'nlp', 'love', 'amazing', 'natural', 'language', 'processing', 'a', 'part', 'of', 'word2vec', 'used', 'in', 'many', 'i']\n",
      "18\n"
     ]
    }
   ],
   "source": [
    "# Get the list of words in the vocabulary\n",
    "vocabulary_list = list(model.wv.index_to_key)\n",
    "\n",
    "# Print the vocabulary\n",
    "print(vocabulary_list)\n",
    "print(len(vocabulary_list))"
   ]
  },
  {
   "cell_type": "code",
   "execution_count": 38,
   "id": "2382d7e3-12bd-4260-835c-c2a083014769",
   "metadata": {},
   "outputs": [
    {
     "data": {
      "text/plain": [
       "['a',\n",
       " 'amazing',\n",
       " 'i',\n",
       " 'in',\n",
       " 'is',\n",
       " 'language',\n",
       " 'learning',\n",
       " 'love',\n",
       " 'machine',\n",
       " 'many',\n",
       " 'natural',\n",
       " 'nlp',\n",
       " 'of',\n",
       " 'part',\n",
       " 'processing',\n",
       " 'tasks',\n",
       " 'used',\n",
       " 'word2vec']"
      ]
     },
     "execution_count": 38,
     "metadata": {},
     "output_type": "execute_result"
    }
   ],
   "source": [
    "sorted(vocabulary_list)"
   ]
  },
  {
   "cell_type": "markdown",
   "id": "8ed88adb-4ed9-4beb-afc3-ee0ef49d37fe",
   "metadata": {},
   "source": [
    "**Step-6: Create sentence vectors**"
   ]
  },
  {
   "cell_type": "markdown",
   "id": "47591376-ac18-4b3e-9f64-3d6fd1825368",
   "metadata": {},
   "source": [
    "**Word Vector:**\n",
    "\n",
    "- The Word2Vec model learns a vector for each word, representing its semantic meaning in a high-dimensional space.\n",
    "\n",
    "**Sentence Vector:**\n",
    "\n",
    "- To represent a sentence, we average the vectors of all the words in the sentence. This vector summarizes the sentence's meaning in the same 100-dimensional space."
   ]
  },
  {
   "cell_type": "code",
   "execution_count": 42,
   "id": "2fd77d24-fd7a-4a06-be25-659dd0ce1b27",
   "metadata": {},
   "outputs": [
    {
     "data": {
      "text/plain": [
       "['i', 'love', 'machine', 'learning']"
      ]
     },
     "execution_count": 42,
     "metadata": {},
     "output_type": "execute_result"
    }
   ],
   "source": [
    "tokenized_corpus[0]\n",
    "# model.wv['i']\n",
    "# model.wv['love']\n",
    "# model.wv['machine']\n",
    "# model.wv['learning']"
   ]
  },
  {
   "cell_type": "code",
   "execution_count": 44,
   "id": "95a347e8-79ac-45ed-b804-bfca4a86e71c",
   "metadata": {},
   "outputs": [
    {
     "data": {
      "text/plain": [
       "array([ 5.5, 13.5, 19. ])"
      ]
     },
     "execution_count": 44,
     "metadata": {},
     "output_type": "execute_result"
    }
   ],
   "source": [
    "import numpy as np\n",
    "l1=[1,2,3]\n",
    "l2=[10,25,35]\n",
    "np.mean([l1,l2],axis=0)"
   ]
  },
  {
   "cell_type": "code",
   "execution_count": 46,
   "id": "088bdd38-afc4-4058-bdf5-99e4f4fd078f",
   "metadata": {},
   "outputs": [
    {
     "name": "stdout",
     "output_type": "stream",
     "text": [
      "100\n"
     ]
    }
   ],
   "source": [
    "import numpy as np\n",
    "\n",
    "sentence_vector = np.mean(\n",
    "    [model.wv[word] for word in tokenized_corpus[0]],\n",
    "    axis=0\n",
    ")\n",
    "print(len(sentence_vector))"
   ]
  },
  {
   "cell_type": "markdown",
   "id": "b7b12b1a-3f41-4ef9-8789-a35dcd8ae0a0",
   "metadata": {},
   "source": [
    "## Original Model"
   ]
  },
  {
   "cell_type": "code",
   "execution_count": 2,
   "id": "67cc7b1f-75b4-4c5f-b3fc-04bede0bbc5d",
   "metadata": {},
   "outputs": [
    {
     "data": {
      "text/plain": [
       "<gensim.models.keyedvectors.KeyedVectors at 0x2aaccfbdfd0>"
      ]
     },
     "execution_count": 2,
     "metadata": {},
     "output_type": "execute_result"
    }
   ],
   "source": [
    "import gensim.downloader as api\n",
    "wv=api.load(\"word2vec-google-news-300\")\n",
    "wv\n",
    "# each word vector size=300"
   ]
  },
  {
   "cell_type": "code",
   "execution_count": 4,
   "id": "ff144a49-8e1f-4606-88e8-ce667a054974",
   "metadata": {},
   "outputs": [],
   "source": [
    "from gensim.models import Word2Vec"
   ]
  },
  {
   "cell_type": "code",
   "execution_count": 6,
   "id": "0b32931c-4e18-408c-afdc-272763114276",
   "metadata": {},
   "outputs": [
    {
     "data": {
      "text/plain": [
       "['__class__',\n",
       " '__delattr__',\n",
       " '__dict__',\n",
       " '__dir__',\n",
       " '__doc__',\n",
       " '__eq__',\n",
       " '__format__',\n",
       " '__ge__',\n",
       " '__getattribute__',\n",
       " '__getstate__',\n",
       " '__gt__',\n",
       " '__hash__',\n",
       " '__init__',\n",
       " '__init_subclass__',\n",
       " '__le__',\n",
       " '__lt__',\n",
       " '__module__',\n",
       " '__ne__',\n",
       " '__new__',\n",
       " '__reduce__',\n",
       " '__reduce_ex__',\n",
       " '__repr__',\n",
       " '__setattr__',\n",
       " '__sizeof__',\n",
       " '__str__',\n",
       " '__subclasshook__',\n",
       " '__weakref__',\n",
       " '_adapt_by_suffix',\n",
       " '_check_corpus_sanity',\n",
       " '_check_training_sanity',\n",
       " '_clear_post_train',\n",
       " '_do_train_epoch',\n",
       " '_do_train_job',\n",
       " '_get_next_alpha',\n",
       " '_get_thread_working_mem',\n",
       " '_job_producer',\n",
       " '_load_specials',\n",
       " '_log_epoch_end',\n",
       " '_log_epoch_progress',\n",
       " '_log_progress',\n",
       " '_log_train_end',\n",
       " '_raw_word_count',\n",
       " '_save_specials',\n",
       " '_scan_vocab',\n",
       " '_smart_save',\n",
       " '_train_epoch',\n",
       " '_train_epoch_corpusfile',\n",
       " '_worker_loop',\n",
       " '_worker_loop_corpusfile',\n",
       " 'add_lifecycle_event',\n",
       " 'add_null_word',\n",
       " 'build_vocab',\n",
       " 'build_vocab_from_freq',\n",
       " 'create_binary_tree',\n",
       " 'estimate_memory',\n",
       " 'get_latest_training_loss',\n",
       " 'init_sims',\n",
       " 'init_weights',\n",
       " 'load',\n",
       " 'make_cum_table',\n",
       " 'predict_output_word',\n",
       " 'prepare_vocab',\n",
       " 'prepare_weights',\n",
       " 'reset_from',\n",
       " 'save',\n",
       " 'scan_vocab',\n",
       " 'score',\n",
       " 'seeded_vector',\n",
       " 'train',\n",
       " 'update_weights']"
      ]
     },
     "execution_count": 6,
     "metadata": {},
     "output_type": "execute_result"
    }
   ],
   "source": [
    "dir(Word2Vec)"
   ]
  },
  {
   "cell_type": "code",
   "execution_count": 8,
   "id": "dc55d5d2-bafb-4693-9ee5-5b29ac60c6e2",
   "metadata": {},
   "outputs": [
    {
     "data": {
      "text/plain": [
       "array([ 1.25976562e-01,  2.97851562e-02,  8.60595703e-03,  1.39648438e-01,\n",
       "       -2.56347656e-02, -3.61328125e-02,  1.11816406e-01, -1.98242188e-01,\n",
       "        5.12695312e-02,  3.63281250e-01, -2.42187500e-01, -3.02734375e-01,\n",
       "       -1.77734375e-01, -2.49023438e-02, -1.67968750e-01, -1.69921875e-01,\n",
       "        3.46679688e-02,  5.21850586e-03,  4.63867188e-02,  1.28906250e-01,\n",
       "        1.36718750e-01,  1.12792969e-01,  5.95703125e-02,  1.36718750e-01,\n",
       "        1.01074219e-01, -1.76757812e-01, -2.51953125e-01,  5.98144531e-02,\n",
       "        3.41796875e-01, -3.11279297e-02,  1.04492188e-01,  6.17675781e-02,\n",
       "        1.24511719e-01,  4.00390625e-01, -3.22265625e-01,  8.39843750e-02,\n",
       "        3.90625000e-02,  5.85937500e-03,  7.03125000e-02,  1.72851562e-01,\n",
       "        1.38671875e-01, -2.31445312e-01,  2.83203125e-01,  1.42578125e-01,\n",
       "        3.41796875e-01, -2.39257812e-02, -1.09863281e-01,  3.32031250e-02,\n",
       "       -5.46875000e-02,  1.53198242e-02, -1.62109375e-01,  1.58203125e-01,\n",
       "       -2.59765625e-01,  2.01416016e-02, -1.63085938e-01,  1.35803223e-03,\n",
       "       -1.44531250e-01, -5.68847656e-02,  4.29687500e-02, -2.46582031e-02,\n",
       "        1.85546875e-01,  4.47265625e-01,  9.58251953e-03,  1.31835938e-01,\n",
       "        9.86328125e-02, -1.85546875e-01, -1.00097656e-01, -1.33789062e-01,\n",
       "       -1.25000000e-01,  2.83203125e-01,  1.23046875e-01,  5.32226562e-02,\n",
       "       -1.77734375e-01,  8.59375000e-02, -2.18505859e-02,  2.05078125e-02,\n",
       "       -1.39648438e-01,  2.51464844e-02,  1.38671875e-01, -1.05468750e-01,\n",
       "        1.38671875e-01,  8.88671875e-02, -7.51953125e-02, -2.13623047e-02,\n",
       "        1.72851562e-01,  4.63867188e-02, -2.65625000e-01,  8.91113281e-03,\n",
       "        1.49414062e-01,  3.78417969e-02,  2.38281250e-01, -1.24511719e-01,\n",
       "       -2.17773438e-01, -1.81640625e-01,  2.97851562e-02,  5.71289062e-02,\n",
       "       -2.89306641e-02,  1.24511719e-02,  9.66796875e-02, -2.31445312e-01,\n",
       "        5.81054688e-02,  6.68945312e-02,  7.08007812e-02, -3.08593750e-01,\n",
       "       -2.14843750e-01,  1.45507812e-01, -4.27734375e-01, -9.39941406e-03,\n",
       "        1.54296875e-01, -7.66601562e-02,  2.89062500e-01,  2.77343750e-01,\n",
       "       -4.86373901e-04, -1.36718750e-01,  3.24218750e-01, -2.46093750e-01,\n",
       "       -3.03649902e-03, -2.11914062e-01,  1.25000000e-01,  2.69531250e-01,\n",
       "        2.04101562e-01,  8.25195312e-02, -2.01171875e-01, -1.60156250e-01,\n",
       "       -3.78417969e-02, -1.20117188e-01,  1.15234375e-01, -4.10156250e-02,\n",
       "       -3.95507812e-02, -8.98437500e-02,  6.34765625e-03,  2.03125000e-01,\n",
       "        1.86523438e-01,  2.73437500e-01,  6.29882812e-02,  1.41601562e-01,\n",
       "       -9.81445312e-02,  1.38671875e-01,  1.82617188e-01,  1.73828125e-01,\n",
       "        1.73828125e-01, -2.37304688e-01,  1.78710938e-01,  6.34765625e-02,\n",
       "        2.36328125e-01, -2.08984375e-01,  8.74023438e-02, -1.66015625e-01,\n",
       "       -7.91015625e-02,  2.43164062e-01, -8.88671875e-02,  1.26953125e-01,\n",
       "       -2.16796875e-01, -1.73828125e-01, -3.59375000e-01, -8.25195312e-02,\n",
       "       -6.49414062e-02,  5.07812500e-02,  1.35742188e-01, -7.47070312e-02,\n",
       "       -1.64062500e-01,  1.15356445e-02,  4.45312500e-01, -2.15820312e-01,\n",
       "       -1.11328125e-01, -1.92382812e-01,  1.70898438e-01, -1.25000000e-01,\n",
       "        2.65502930e-03,  1.92382812e-01, -1.74804688e-01,  1.39648438e-01,\n",
       "        2.92968750e-01,  1.13281250e-01,  5.95703125e-02, -6.39648438e-02,\n",
       "        9.96093750e-02, -2.72216797e-02,  1.96533203e-02,  4.27246094e-02,\n",
       "       -2.46093750e-01,  6.39648438e-02, -2.25585938e-01, -1.68945312e-01,\n",
       "        2.89916992e-03,  8.20312500e-02,  3.41796875e-01,  4.32128906e-02,\n",
       "        1.32812500e-01,  1.42578125e-01,  7.61718750e-02,  5.98144531e-02,\n",
       "       -1.19140625e-01,  2.74658203e-03, -6.29882812e-02, -2.72216797e-02,\n",
       "       -4.82177734e-03, -8.20312500e-02, -2.49023438e-02, -4.00390625e-01,\n",
       "       -1.06933594e-01,  4.24804688e-02,  7.76367188e-02, -1.16699219e-01,\n",
       "        7.37304688e-02, -9.22851562e-02,  1.07910156e-01,  1.58203125e-01,\n",
       "        4.24804688e-02,  1.26953125e-01,  3.61328125e-02,  2.67578125e-01,\n",
       "       -1.01074219e-01, -3.02734375e-01, -5.76171875e-02,  5.05371094e-02,\n",
       "        5.26428223e-04, -2.07031250e-01, -1.38671875e-01, -8.97216797e-03,\n",
       "       -2.78320312e-02, -1.41601562e-01,  2.07031250e-01, -1.58203125e-01,\n",
       "        1.27929688e-01,  1.49414062e-01, -2.24609375e-02, -8.44726562e-02,\n",
       "        1.22558594e-01,  2.15820312e-01, -2.13867188e-01, -3.12500000e-01,\n",
       "       -3.73046875e-01,  4.08935547e-03,  1.07421875e-01,  1.06933594e-01,\n",
       "        7.32421875e-02,  8.97216797e-03, -3.88183594e-02, -1.29882812e-01,\n",
       "        1.49414062e-01, -2.14843750e-01, -1.83868408e-03,  9.91210938e-02,\n",
       "        1.57226562e-01, -1.14257812e-01, -2.05078125e-01,  9.91210938e-02,\n",
       "        3.69140625e-01, -1.97265625e-01,  3.54003906e-02,  1.09375000e-01,\n",
       "        1.31835938e-01,  1.66992188e-01,  2.35351562e-01,  1.04980469e-01,\n",
       "       -4.96093750e-01, -1.64062500e-01, -1.56250000e-01, -5.22460938e-02,\n",
       "        1.03027344e-01,  2.43164062e-01, -1.88476562e-01,  5.07812500e-02,\n",
       "       -9.37500000e-02, -6.68945312e-02,  2.27050781e-02,  7.61718750e-02,\n",
       "        2.89062500e-01,  3.10546875e-01, -5.37109375e-02,  2.28515625e-01,\n",
       "        2.51464844e-02,  6.78710938e-02, -1.21093750e-01, -2.15820312e-01,\n",
       "       -2.73437500e-01, -3.07617188e-02, -3.37890625e-01,  1.53320312e-01,\n",
       "        2.33398438e-01, -2.08007812e-01,  3.73046875e-01,  8.20312500e-02,\n",
       "        2.51953125e-01, -7.61718750e-02, -4.66308594e-02, -2.23388672e-02,\n",
       "        2.99072266e-02, -5.93261719e-02, -4.66918945e-03, -2.44140625e-01,\n",
       "       -2.09960938e-01, -2.87109375e-01, -4.54101562e-02, -1.77734375e-01,\n",
       "       -2.79296875e-01, -8.59375000e-02,  9.13085938e-02,  2.51953125e-01],\n",
       "      dtype=float32)"
      ]
     },
     "execution_count": 8,
     "metadata": {},
     "output_type": "execute_result"
    }
   ],
   "source": [
    "vec_king=wv['king']\n",
    "vec_king"
   ]
  },
  {
   "cell_type": "code",
   "execution_count": 10,
   "id": "92ca5bd2-f5ed-4d5e-ab4c-b129e6c256de",
   "metadata": {},
   "outputs": [
    {
     "data": {
      "text/plain": [
       "(300,)"
      ]
     },
     "execution_count": 10,
     "metadata": {},
     "output_type": "execute_result"
    }
   ],
   "source": [
    "vec_king.shape  # on 300 contextual feature the model is trained"
   ]
  },
  {
   "cell_type": "markdown",
   "id": "64fa210a-b888-4bc3-9935-88ea0c50c0ac",
   "metadata": {},
   "source": [
    "**Similarity between two words**"
   ]
  },
  {
   "cell_type": "code",
   "execution_count": 13,
   "id": "85c60894-b257-41d9-8047-cfa131843c2f",
   "metadata": {},
   "outputs": [
    {
     "data": {
      "text/plain": [
       "0.6510957"
      ]
     },
     "execution_count": 13,
     "metadata": {},
     "output_type": "execute_result"
    }
   ],
   "source": [
    "wv.similarity('king','queen')  # cosine similairt two words\n",
    "#wv.similarity('good','bad')"
   ]
  },
  {
   "cell_type": "markdown",
   "id": "985a9b48-c119-46fb-9ccc-8b02b25f1aff",
   "metadata": {},
   "source": [
    "- take the king vector seperately\n",
    "\n",
    "- also queen vector\n",
    "\n",
    "- Will perform the Cosine similarity"
   ]
  },
  {
   "cell_type": "code",
   "execution_count": 18,
   "id": "ef816a55-f166-459c-a623-a9785b8c9c98",
   "metadata": {},
   "outputs": [],
   "source": [
    "vec_king=wv['king']\n",
    "vec_queen=wv['queen']"
   ]
  },
  {
   "cell_type": "markdown",
   "id": "aecf0f72-fd03-41f2-a2f3-df1787a5071a",
   "metadata": {},
   "source": [
    "![image.png](data:image/png;base64,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)"
   ]
  },
  {
   "cell_type": "code",
   "execution_count": 21,
   "id": "37f106ba-4649-441d-b9dc-fa4cd878f864",
   "metadata": {},
   "outputs": [
    {
     "name": "stdout",
     "output_type": "stream",
     "text": [
      "Cosine Similarity: 0.6510957\n"
     ]
    }
   ],
   "source": [
    "# import required libraries\n",
    "import numpy as np\n",
    "from numpy.linalg import norm\n",
    "\n",
    "# define two lists or array\n",
    "\n",
    "# compute cosine similarity\n",
    "cosine = np.dot(vec_king,vec_queen)/(norm(vec_king)*norm(vec_queen))\n",
    "print(\"Cosine Similarity:\", cosine)"
   ]
  },
  {
   "cell_type": "code",
   "execution_count": 23,
   "id": "592ea135-5199-41fc-900e-663a20a4f0bf",
   "metadata": {},
   "outputs": [
    {
     "data": {
      "text/plain": [
       "0.15208998"
      ]
     },
     "execution_count": 23,
     "metadata": {},
     "output_type": "execute_result"
    }
   ],
   "source": [
    "wv.similarity('good','bad')\n",
    "wv.similarity('fruit','apple')\n",
    "wv.similarity('fruit','bus')"
   ]
  },
  {
   "cell_type": "markdown",
   "id": "4e58d417-4e31-4793-b7b7-654504330eda",
   "metadata": {},
   "source": [
    "**Most Similar**"
   ]
  },
  {
   "cell_type": "code",
   "execution_count": 26,
   "id": "4003c740-4c45-48e4-8dc9-8d341008a814",
   "metadata": {},
   "outputs": [
    {
     "data": {
      "text/plain": [
       "[('kings', 0.7138045430183411),\n",
       " ('queen', 0.6510957479476929),\n",
       " ('monarch', 0.6413194537162781),\n",
       " ('crown_prince', 0.6204220056533813),\n",
       " ('prince', 0.6159993410110474),\n",
       " ('sultan', 0.5864824056625366),\n",
       " ('ruler', 0.5797566771507263),\n",
       " ('princes', 0.5646551847457886),\n",
       " ('Prince_Paras', 0.5432944297790527),\n",
       " ('throne', 0.5422105193138123)]"
      ]
     },
     "execution_count": 26,
     "metadata": {},
     "output_type": "execute_result"
    }
   ],
   "source": [
    "wv.most_similar('king')"
   ]
  },
  {
   "cell_type": "code",
   "execution_count": 28,
   "id": "66c388eb-ce93-4ab6-abb7-4a0ee1bf69ec",
   "metadata": {},
   "outputs": [
    {
     "data": {
      "text/plain": [
       "[('Telangana', 0.709855318069458),\n",
       " ('Telengana', 0.7074891328811646),\n",
       " ('Seema_Andhra', 0.662674605846405),\n",
       " ('Telangana_protagonists', 0.6453095078468323),\n",
       " ('TDP_politburo_member', 0.6418837308883667),\n",
       " ('Madhu_Yashki', 0.6368694305419922),\n",
       " ('Telangana_JAC', 0.6334327459335327),\n",
       " ('Telangana_Rashtra_Samiti', 0.6320292353630066),\n",
       " ('Telangana_Rashtra_Samithi', 0.6315801739692688),\n",
       " ('Rayalseema', 0.6294907331466675)]"
      ]
     },
     "execution_count": 28,
     "metadata": {},
     "output_type": "execute_result"
    }
   ],
   "source": [
    "wv.most_similar('Telanagana')\n",
    "\n",
    "# 2008-2010-2012"
   ]
  },
  {
   "cell_type": "code",
   "execution_count": 30,
   "id": "f179bd18-6062-4924-8417-d1ea96c3c8ef",
   "metadata": {},
   "outputs": [
    {
     "data": {
      "text/plain": [
       "[('PicPlz', 0.6953474283218384),\n",
       " ('Picplz', 0.662936806678772),\n",
       " ('Seesmic', 0.6571531295776367),\n",
       " ('Flickr', 0.6571182608604431),\n",
       " ('TweetPhoto', 0.6456090211868286),\n",
       " ('Hipstamatic', 0.6450109481811523),\n",
       " ('FacebookFacebook', 0.6347207427024841),\n",
       " ('Posterous', 0.6346838474273682),\n",
       " ('Tumblr', 0.6269142627716064),\n",
       " ('Friendfeed', 0.6202862858772278)]"
      ]
     },
     "execution_count": 30,
     "metadata": {},
     "output_type": "execute_result"
    }
   ],
   "source": [
    "wv.most_similar('Instagram')"
   ]
  },
  {
   "cell_type": "code",
   "execution_count": 32,
   "id": "e05e6e75-c4d8-4516-a240-5fb05af7bb81",
   "metadata": {},
   "outputs": [
    {
     "data": {
      "text/plain": [
       "[('tendulkar', 0.7856917381286621),\n",
       " ('ganguly', 0.7785739898681641),\n",
       " ('sehwag', 0.7773319482803345),\n",
       " ('dravid', 0.7691141963005066),\n",
       " ('sachin_tendulkar', 0.741614580154419),\n",
       " ('laxman', 0.7271499633789062),\n",
       " ('KrisSrikkanth_says', 0.6995106339454651),\n",
       " ('murali', 0.6993196606636047),\n",
       " ('afridi', 0.6891643404960632),\n",
       " ('odi', 0.6883801817893982)]"
      ]
     },
     "execution_count": 32,
     "metadata": {},
     "output_type": "execute_result"
    }
   ],
   "source": [
    "wv.most_similar('sachin')"
   ]
  },
  {
   "cell_type": "code",
   "execution_count": 34,
   "id": "ac1372b7-3f78-4187-a59a-a5ec0e35ea04",
   "metadata": {},
   "outputs": [
    {
     "data": {
      "text/plain": [
       "[('Santosh', 0.6937444806098938),\n",
       " ('Manoj', 0.6925430297851562),\n",
       " ('Gajanan', 0.6849738955497742),\n",
       " ('Sushil', 0.6795055270195007),\n",
       " ('Ashwini', 0.6773781180381775),\n",
       " ('Pankaj', 0.6761125326156616),\n",
       " ('Sudhir', 0.6697543263435364),\n",
       " ('Nirmal', 0.6669991612434387),\n",
       " ('Rajesh', 0.6660282611846924),\n",
       " ('Jagdish', 0.6633676886558533)]"
      ]
     },
     "execution_count": 34,
     "metadata": {},
     "output_type": "execute_result"
    }
   ],
   "source": [
    "wv.most_similar('Omkar')"
   ]
  },
  {
   "cell_type": "code",
   "execution_count": 36,
   "id": "a8cd7865-dc5d-4735-b047-d545bc410274",
   "metadata": {},
   "outputs": [
    {
     "data": {
      "text/plain": [
       "['__class__',\n",
       " '__contains__',\n",
       " '__delattr__',\n",
       " '__dict__',\n",
       " '__dir__',\n",
       " '__doc__',\n",
       " '__eq__',\n",
       " '__format__',\n",
       " '__ge__',\n",
       " '__getattribute__',\n",
       " '__getitem__',\n",
       " '__getstate__',\n",
       " '__gt__',\n",
       " '__hash__',\n",
       " '__init__',\n",
       " '__init_subclass__',\n",
       " '__le__',\n",
       " '__len__',\n",
       " '__lt__',\n",
       " '__module__',\n",
       " '__ne__',\n",
       " '__new__',\n",
       " '__reduce__',\n",
       " '__reduce_ex__',\n",
       " '__repr__',\n",
       " '__setattr__',\n",
       " '__setitem__',\n",
       " '__sizeof__',\n",
       " '__str__',\n",
       " '__subclasshook__',\n",
       " '__weakref__',\n",
       " '_adapt_by_suffix',\n",
       " '_load_specials',\n",
       " '_log_evaluate_word_analogies',\n",
       " '_save_specials',\n",
       " '_smart_save',\n",
       " '_upconvert_old_d2vkv',\n",
       " '_upconvert_old_vocab',\n",
       " 'add_lifecycle_event',\n",
       " 'add_vector',\n",
       " 'add_vectors',\n",
       " 'allocate_vecattrs',\n",
       " 'closer_than',\n",
       " 'cosine_similarities',\n",
       " 'distance',\n",
       " 'distances',\n",
       " 'doesnt_match',\n",
       " 'evaluate_word_analogies',\n",
       " 'evaluate_word_pairs',\n",
       " 'expandos',\n",
       " 'fill_norms',\n",
       " 'get_index',\n",
       " 'get_mean_vector',\n",
       " 'get_normed_vectors',\n",
       " 'get_vecattr',\n",
       " 'get_vector',\n",
       " 'has_index_for',\n",
       " 'index2entity',\n",
       " 'index2word',\n",
       " 'index_to_key',\n",
       " 'init_sims',\n",
       " 'intersect_word2vec_format',\n",
       " 'key_to_index',\n",
       " 'lifecycle_events',\n",
       " 'load',\n",
       " 'load_word2vec_format',\n",
       " 'log_accuracy',\n",
       " 'log_evaluate_word_pairs',\n",
       " 'mapfile_path',\n",
       " 'most_similar',\n",
       " 'most_similar_cosmul',\n",
       " 'most_similar_to_given',\n",
       " 'n_similarity',\n",
       " 'next_index',\n",
       " 'norms',\n",
       " 'rank',\n",
       " 'rank_by_centrality',\n",
       " 'relative_cosine_similarity',\n",
       " 'resize_vectors',\n",
       " 'save',\n",
       " 'save_word2vec_format',\n",
       " 'set_vecattr',\n",
       " 'similar_by_key',\n",
       " 'similar_by_vector',\n",
       " 'similar_by_word',\n",
       " 'similarity',\n",
       " 'similarity_unseen_docs',\n",
       " 'sort_by_descending_frequency',\n",
       " 'unit_normalize_all',\n",
       " 'vector_size',\n",
       " 'vectors',\n",
       " 'vectors_for_all',\n",
       " 'vectors_norm',\n",
       " 'vocab',\n",
       " 'wmdistance',\n",
       " 'word_vec',\n",
       " 'words_closer_than']"
      ]
     },
     "execution_count": 36,
     "metadata": {},
     "output_type": "execute_result"
    }
   ],
   "source": [
    "dir(wv)"
   ]
  },
  {
   "cell_type": "code",
   "execution_count": null,
   "id": "13f7f724-321f-4be9-b9f4-17e96a7bf9cc",
   "metadata": {},
   "outputs": [],
   "source": []
  }
 ],
 "metadata": {
  "kernelspec": {
   "display_name": "Python [conda env:base] *",
   "language": "python",
   "name": "conda-base-py"
  },
  "language_info": {
   "codemirror_mode": {
    "name": "ipython",
    "version": 3
   },
   "file_extension": ".py",
   "mimetype": "text/x-python",
   "name": "python",
   "nbconvert_exporter": "python",
   "pygments_lexer": "ipython3",
   "version": "3.12.7"
  }
 },
 "nbformat": 4,
 "nbformat_minor": 5
}
